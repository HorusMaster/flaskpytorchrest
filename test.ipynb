{
 "metadata": {
  "language_info": {
   "codemirror_mode": {
    "name": "ipython",
    "version": 3
   },
   "file_extension": ".py",
   "mimetype": "text/x-python",
   "name": "python",
   "nbconvert_exporter": "python",
   "pygments_lexer": "ipython3",
   "version": "3.9.5"
  },
  "orig_nbformat": 2,
  "kernelspec": {
   "name": "pythonjvsc74a57bd0a27af327de5b3a0b77e0c091ed4fb5e00ebe5f51297aa08788e616ea4a644182",
   "display_name": "Python 3.9.5 64-bit ('.venv': venv)"
  },
  "metadata": {
   "interpreter": {
    "hash": "a27af327de5b3a0b77e0c091ed4fb5e00ebe5f51297aa08788e616ea4a644182"
   }
  }
 },
 "nbformat": 4,
 "nbformat_minor": 2,
 "cells": [
  {
   "cell_type": "code",
   "execution_count": null,
   "metadata": {},
   "outputs": [],
   "source": [
    "x=1"
   ]
  },
  {
   "cell_type": "code",
   "execution_count": null,
   "metadata": {},
   "outputs": [],
   "source": [
    "print(x)"
   ]
  },
  {
   "cell_type": "code",
   "execution_count": null,
   "metadata": {},
   "outputs": [],
   "source": [
    "import torch"
   ]
  },
  {
   "cell_type": "code",
   "execution_count": null,
   "metadata": {},
   "outputs": [],
   "source": [
    "import matplotlib.pyplot as plt\n",
    "import numpy as np\n",
    "\n",
    "x = np.linspace(0, 20, 100)  # Create a list of evenly-spaced numbers over the range\n",
    "plt.plot(x, np.sin(x))       # Plot the sine of each x point\n",
    "plt.show()         "
   ]
  },
  {
   "cell_type": "code",
   "execution_count": 5,
   "metadata": {},
   "outputs": [
    {
     "output_type": "stream",
     "name": "stdout",
     "text": [
      "{'class_id': 'n01443537', 'class_name': 'goldfish'}\n"
     ]
    }
   ],
   "source": [
    "import requests\n",
    "\n",
    "resp = requests.post(\"http://localhost:5000/predict\",\n",
    "                     files={\"file\": open('./fish.jpg','rb')})\n",
    "print(resp.json())"
   ]
  },
  {
   "cell_type": "code",
   "execution_count": null,
   "metadata": {},
   "outputs": [],
   "source": [
    "import io\n",
    "\n",
    "import torchvision.transforms as transforms\n",
    "from PIL import Image\n",
    "\n",
    "def transform_image(image_bytes):\n",
    "    my_transforms = transforms.Compose([transforms.Resize(255),\n",
    "                                        transforms.CenterCrop(224),\n",
    "                                        transforms.ToTensor(),\n",
    "                                        transforms.Normalize(\n",
    "                                            [0.485, 0.456, 0.406],\n",
    "                                            [0.229, 0.224, 0.225])])\n",
    "    image = Image.open(io.BytesIO(image_bytes))\n",
    "    return my_transforms(image).unsqueeze(0)"
   ]
  },
  {
   "cell_type": "code",
   "execution_count": null,
   "metadata": {},
   "outputs": [],
   "source": [
    "with open(\"./cat.jpg\", 'rb') as f:\n",
    "    image_bytes = f.read()\n",
    "    tensor = transform_image(image_bytes=image_bytes)\n",
    "    print(tensor)"
   ]
  },
  {
   "cell_type": "code",
   "execution_count": null,
   "metadata": {},
   "outputs": [],
   "source": [
    "from torchvision import models\n",
    "\n",
    "# Make sure to pass `pretrained` as `True` to use the pretrained weights:\n",
    "model = models.densenet121(pretrained=True)\n",
    "# Since we are using our model only for inference, switch to `eval` mode:\n",
    "model.eval()\n",
    "\n",
    "\n",
    "def get_prediction(image_bytes):\n",
    "    tensor = transform_image(image_bytes=image_bytes)\n",
    "    outputs = model.forward(tensor)\n",
    "    _, y_hat = outputs.max(1)\n",
    "    return y_hat"
   ]
  },
  {
   "cell_type": "code",
   "execution_count": null,
   "metadata": {},
   "outputs": [],
   "source": [
    "import json\n",
    "\n",
    "imagenet_class_index = json.load(open('./imagenet_class_index.json'))\n",
    "\n",
    "def get_prediction(image_bytes):\n",
    "    tensor = transform_image(image_bytes=image_bytes)\n",
    "    outputs = model.forward(tensor)\n",
    "    _, y_hat = outputs.max(1)\n",
    "    predicted_idx = str(y_hat.item())\n",
    "    return imagenet_class_index[predicted_idx]"
   ]
  },
  {
   "cell_type": "code",
   "execution_count": null,
   "metadata": {},
   "outputs": [],
   "source": [
    "with open(\"./dog.jpg\", 'rb') as f:\n",
    "    image_bytes = f.read()\n",
    "    print(get_prediction(image_bytes=image_bytes))"
   ]
  },
  {
   "cell_type": "code",
   "execution_count": null,
   "metadata": {},
   "outputs": [],
   "source": []
  }
 ]
}